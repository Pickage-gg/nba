{
 "cells": [
  {
   "cell_type": "code",
   "execution_count": 71,
   "metadata": {},
   "outputs": [
    {
     "name": "stdout",
     "output_type": "stream",
     "text": [
      "The autoreload extension is already loaded. To reload it, use:\n",
      "  %reload_ext autoreload\n"
     ]
    }
   ],
   "source": [
    "%load_ext autoreload\n",
    "%autoreload 2\n",
    "\n",
    "from nba_api.stats.static import players\n",
    "\n",
    "player_dict = players.get_active_players()\n",
    "id_player_pairs = dict([(player['id'], player['full_name']) for player in player_dict])\n",
    "player_ids = [pair for pair in id_player_pairs]\n",
    "#id_player_pairs"
   ]
  },
  {
   "cell_type": "code",
   "execution_count": 103,
   "metadata": {},
   "outputs": [],
   "source": [
    "import get_gamelog\n",
    "\n",
    "lebron_df = get_gamelog.player_gamelog(2544)\n",
    "#lebron_df"
   ]
  },
  {
   "cell_type": "code",
   "execution_count": 73,
   "metadata": {},
   "outputs": [],
   "source": [
    "from nba_api.stats.static import teams\n",
    "from nba_api.stats.endpoints import leaguegamefinder\n",
    "\n",
    "# Get all Team IDs\n",
    "team_dict = teams.get_teams()\n",
    "id_team_pairs = [(team['id'], team['full_name']) for team in team_dict]\n",
    "team_ids = [pair[0] for pair in id_team_pairs]\n",
    "#id_team_pairs"
   ]
  },
  {
   "cell_type": "code",
   "execution_count": 100,
   "metadata": {},
   "outputs": [],
   "source": [
    "#get_gamelog.team_gamelog(1610612749)"
   ]
  },
  {
   "cell_type": "code",
   "execution_count": 106,
   "metadata": {},
   "outputs": [],
   "source": [
    "import create_tables\n",
    "\n",
    "create_tables.create_tables(2544)"
   ]
  },
  {
   "cell_type": "code",
   "execution_count": 109,
   "metadata": {},
   "outputs": [],
   "source": [
    "import pandas as pd\n",
    "from sqlalchemy import create_engine\n",
    "from config import load_config\n",
    "\n",
    "config = load_config()\n",
    "connection_string = f\"postgresql://{config['user']}:{config['password']}@{config['host']}:{config['port']}/{config['database']}\"\n",
    "engine = create_engine(connection_string)\n",
    "\n",
    "with engine.connect() as db_connection:\n",
    "    query = 'SELECT * FROM lebron_table'\n",
    "    data_frame = pd.read_sql(query, db_connection)\n",
    "    #display(data_frame)"
   ]
  }
 ],
 "metadata": {
  "kernelspec": {
   "display_name": ".venv",
   "language": "python",
   "name": "python3"
  },
  "language_info": {
   "codemirror_mode": {
    "name": "ipython",
    "version": 3
   },
   "file_extension": ".py",
   "mimetype": "text/x-python",
   "name": "python",
   "nbconvert_exporter": "python",
   "pygments_lexer": "ipython3",
   "version": "3.12.3"
  }
 },
 "nbformat": 4,
 "nbformat_minor": 2
}
